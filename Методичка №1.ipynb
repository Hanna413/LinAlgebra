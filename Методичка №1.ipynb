{
 "cells": [
  {
   "cell_type": "markdown",
   "metadata": {
    "id": "zz7SDkPIkVlM"
   },
   "source": [
    "# Урок 1"
   ]
  },
  {
   "cell_type": "markdown",
   "metadata": {
    "id": "p_3vqG5-kVlP"
   },
   "source": [
    "# Линейное пространство. Основные понятия. Часть 1"
   ]
  },
  {
   "cell_type": "markdown",
   "metadata": {
    "id": "GY06IIS-kVlS"
   },
   "source": [
    "_Линейным (векторным) пространством_ $\\mathit{V}$ над некоторым полем $K$ называется множество элементов, называемых векторами, с заданными на нём операциями:\n",
    "\n",
    "- сложения: $V \\times V \\rightarrow V$, где любым двум элементам $u$ и $v$ множества $V$ ставится в соответствие третий элемент $w$ этого же множества, называемый _суммой_ элементов $u$ и $v$ и обозначаемый $w=u+v$;\n",
    "\n",
    "- умножения на число: $K \\times V \\rightarrow V$, где любому элементу $u$ множества $V$ и любому вещественному числу $\\lambda$ ставится в соответствие элемент $x$ этого же множества, называемый _произведением элемента $u$ на число_ $\\lambda$ и обозначаемый $x=\\lambda u$ или $x=u\\lambda$."
   ]
  },
  {
   "cell_type": "markdown",
   "metadata": {
    "id": "kXP1CeOrkVlT"
   },
   "source": [
    "В качестве поля, над которым задаётся векторное пространство, обычно выбирается множество вещественных чисел $\\mathbb{R}$ или комплексных чисел $\\mathbb{C}$. Элементы такого поля иногда называются _скалярами_."
   ]
  },
  {
   "cell_type": "markdown",
   "metadata": {
    "id": "Sgf3itexkVlV"
   },
   "source": [
    "Операция сложения векторов удовлетворяет следующим условиям:<br>\n",
    "\n",
    "* коммутативность: $u+v=v+u$;<br>\n",
    "* ассоциативность: $(u+v)+w=u+(v+w)$;<br>\n",
    "* существование такого элемента $0\\in V$, что $u+0=u$ для любого $u$;<br>\n",
    "* существование для любого $u\\in V$ такого вектора $-u\\in V$, что $u+(-u)=0$.\n",
    "\n",
    "Операция умножения вектора на скаляр подчиняется следующим условиям:<br>\n",
    "*  $1\\cdot u=u$ для любого $u\\in V$;<br>\n",
    "* ассоциативность операции умножения на скаляр: $\\lambda (\\mu \\cdot u)=(\\lambda \\cdot \\mu) u$;<br>\n",
    "* дистрибутивность относительно сложения векторов: $\\lambda(u+v)=\\lambda u+\\lambda v$;<br>\n",
    "* дистрибутивность относительно сложения скаляров: $(\\lambda+\\mu)u=\\lambda u+\\mu u$."
   ]
  },
  {
   "cell_type": "markdown",
   "metadata": {
    "id": "-P4xroqzkVlX"
   },
   "source": [
    "Элемент $0$ называется _нулевым вектором_, элемент $-u$ называется _противоположным вектором_ к $u$."
   ]
  },
  {
   "cell_type": "markdown",
   "metadata": {
    "id": "ZvG2QN1KkVlY"
   },
   "source": [
    "### Примеры"
   ]
  },
  {
   "cell_type": "markdown",
   "metadata": {
    "id": "r2pgbJZUkVla"
   },
   "source": [
    "__1.__ Самым известным примером линейного пространства считается множество всех свободных векторов на плоскости. В аналитической геометрии операция сложения двух таких векторов $u+v$ определена по «правилу параллелограмма», а умножению вектора $u$ на число $\\lambda$ соответствует вектор $\\lambda u$, имеющий в $|\\lambda|$ раз большую длину по сравнению с исходным вектором $u$ и то же направление, если $\\lambda > 0$, и противоположное, если $\\lambda < 0$.\n",
    " \n",
    "Соответствие этих операций условиям для линейного пространства проверяется элементарно. Таким образом, это множество считается линейным пространством. Аналогично множества векторов на прямой и в пространстве также будут линейными пространствами."
   ]
  },
  {
   "cell_type": "markdown",
   "metadata": {
    "id": "FPhzlMj1kVld"
   },
   "source": [
    "__2.__ Рассмотрим в качестве примера теперь множество точек на координатной плоскости. Возьмём точку $a$ с соответствующими координатами $(a_{1},a_{2})$ и точку $b$, которой соответствуют координаты $(b_{1},b_{2})$. Зададим в этом пространстве операцию сложения как покоординатную сумму двух элементов:\n",
    "\n",
    "$$a+b = (a_{1}+b_{1}, a_{2}+b_{2})$$\n",
    "\n",
    "и операцию умножения элемента на число, как умножение каждой его координаты на это число:\n",
    "\n",
    "$$\\lambda a=\\lambda(a_{1},a_{2})=(\\lambda a_{1}, \\lambda a_{2}).$$\n",
    "\n",
    "Такое пространство над полем вещественных чисел с заданными операциями сложения и умножения на число будет соответствовать условиям векторного пространства и обычно обозначается $\\mathbb{R}^{2}$.\n",
    "\n",
    "В общем виде это можно представить как пространство $\\mathbb{R}^{n}$ — множество упорядоченных последовательностей длины $n$ элементов поля $\\mathbb{R}$. Сложение и умножение на число элементов его определяются покомпонентно: \n",
    " \n",
    " $$(a_{1},a_{2}, ... ,a_{n})+(b_{1}, b_{2},...,b_{n})=(a_{1}+b_{1}, a_{2}+b_{2}, ..., a_{n}+b_{n}), \\\\\n",
    "\\lambda(a_{1},a_{2},...,a_{n})=(\\lambda a_{1}, \\lambda a_{2},...,\\lambda a_{n}).$$\n",
    " \n",
    " \n",
    "Получившееся линейное пространство называется _n-мерным координатным пространством_."
   ]
  },
  {
   "cell_type": "markdown",
   "metadata": {
    "id": "A2jb9zMTkVlf"
   },
   "source": [
    "__3.__ Примером линейного пространства может служить множество $\\left \\{P_{n}(t)\\right \\}$ всех алгебраических многочленов степени не выше $n$ с операциями сложения и умножения на вещественные числа, определёнными по обычным правилам математического анализа."
   ]
  },
  {
   "cell_type": "markdown",
   "metadata": {
    "id": "Rp3y5MZSkVlh"
   },
   "source": [
    "Другие примеры векторных пространств:<br>\n",
    "* множество $C[a,b]$ всех функций $u=u(t)$, определённых и непрерывных на сегменте $[a,b]$;<br>\n",
    "* множество всех решений однородной системы  $m$ уравнений с $n$ неизвестными."
   ]
  },
  {
   "cell_type": "markdown",
   "metadata": {
    "id": "xQjEkghMkVll"
   },
   "source": [
    "## Линейная зависимость векторов"
   ]
  },
  {
   "cell_type": "markdown",
   "metadata": {
    "id": "Hw7QEAZHkVln"
   },
   "source": [
    "__Определение__\n",
    "\n",
    "Основное понятие линейной алгебры — _линейная зависимость (независимость)_ векторов.\n",
    "Векторы $u_{1},u_{2} ...,u_{n}$ считаются _линейно зависимыми_, если найдутся такие числа $\\lambda_{1}, \\lambda_{2} ..., \\lambda_{n}$, что хотя бы одно из них отлично от нуля, и \n",
    " \n",
    " \n",
    "$$\\lambda_{1}u_{1}+\\lambda_{2}u_{2}+...+\\lambda_{n}u_{n}=0.$$"
   ]
  },
  {
   "cell_type": "markdown",
   "metadata": {
    "id": "Y1TTlxSTkVlp"
   },
   "source": [
    "Выражение $\\sum_{t=1}^{n}\\lambda_{t}u_{t}$ называется _линейной комбинацией_ элементов $u_{1},u_{2}...,u_{n}$ пространства $V$."
   ]
  },
  {
   "cell_type": "markdown",
   "metadata": {
    "id": "oIX-LImokVlq"
   },
   "source": [
    "Элементы $u_{1},u_{2}...,u_{n}$ векторного пространства $V$ называются _линейно независимыми_, если равенство $\\sum_{t=1}^{n}\\lambda_{t}u_{t}=0$ выполняется только тогда, когда $\\lambda_{1}= \\lambda_{2}= ...= \\lambda_{n}=0$."
   ]
  },
  {
   "cell_type": "markdown",
   "metadata": {
    "id": "MiJZbSBqkVls"
   },
   "source": [
    "__Если для этой системы ненулевых векторов существует нетривиальная, при условии, что хотя бы один из коэффициентов отличен от нуля, линейная комбинация, то каждый из этих векторов может быть выражен через линейную комбинацию остальных.__\n",
    "\n",
    "Справедливо и обратное утверждение: __чтобы некоторое множество элементов линейного пространства было линейно зависимым, один из этих элементов должен быть линейной комбинацией остальных.__"
   ]
  },
  {
   "cell_type": "markdown",
   "metadata": {
    "id": "CQ5LW940kVly"
   },
   "source": [
    "Справедливы два элементарных утверждения:\n",
    "\n",
    "1. _Если среди элементов $a_{1}, a_{2}...,a_{n}$ есть нулевой элемент, то эти элементы линейно зависимы._\n",
    "\n",
    "В самом деле, если, например, $a_{1} =0$, то линейная комбинация элементов будет равна нулю при $\\lambda_{1}=1, \\lambda_{2}= ...= \\lambda_{n}=0$.\n",
    "\n",
    "2. _Если некоторое подмножество множества $a_{1}, a_{2}...,a_{n}$ линейно зависимо, то и все элементы $a_{1}, a_{2}...,a_{n}$ линейно зависимы_.\n",
    "\n",
    "В самом деле, допустим, что линейно зависимое подмножество состоит из первых $k<n$ элементов множества. Тогда существуют неравные нулю одновременно числа $\\lambda_{1}, \\lambda_{2}...,\\lambda_{k}$: \n",
    "\n",
    "$$\\sum_{i=1}^{k}\\lambda_{i}a_{i}=0.$$\n",
    "\n",
    "Это равенство также можно записать в виде: $$\\sum_{i=1}^{k}\\lambda_{i}a_{i}+\\sum_{i=k+1}^{n} 0 a_{i}=0,$$\n",
    "что говорит о линейной зависимости векторов $a_{1}, a_{2}...,a_{n}$. Это и требовалось доказать."
   ]
  },
  {
   "cell_type": "markdown",
   "metadata": {
    "id": "InO6qdVLkVl2"
   },
   "source": [
    "Вернёмся к примеру с векторами на плоскости. В этом случае любые два ненулевых и неколлинеарных, не параллельных и не лежащих на одной прямой, вектора будут линейно независимы, так как нельзя выразить один через другой, а уже любые три вектора будут линейно зависимы — каждый из них получится выразить через линейную комбинацию двух других."
   ]
  },
  {
   "cell_type": "markdown",
   "metadata": {
    "id": "MnDnzhFHkVl5"
   },
   "source": [
    "## Базис и размерность"
   ]
  },
  {
   "cell_type": "markdown",
   "metadata": {
    "id": "5RntR-fakVl8"
   },
   "source": [
    "__Определение__\n",
    "\n",
    "Совокупность $n$ линейно независимых векторов линейного пространства $V$ будет называться _базисом_ этого пространства, если для каждого элемента $u$ пространства $V$ найдутся такие вещественные числа $\\xi_{1},\\xi_{2}. . . , \\xi_{n}$, что справедливо равенство:\n",
    "\n",
    "$$u = \\xi_{1}e_{1} + \\xi_{2}e_{2} + . . . + \\xi_{n}e_{n}.$$\n",
    "\n",
    "Коэффициенты $\\xi_{i}$ в этом выражении называются _координатами_ вектора $u$ в базисе $e_{1}  . . . , e_{n}$, а само такое представление вектора $u$ — _разложением этого вектора по базису_."
   ]
  },
  {
   "cell_type": "markdown",
   "metadata": {
    "id": "QIrP3SU5kVmE"
   },
   "source": [
    "__Для каждого элемента линейного пространства $V$ существует единственное представление в виде линейной комбинации базисных элементов.__"
   ]
  },
  {
   "cell_type": "markdown",
   "metadata": {
    "id": "8AqY4a4MkVmH"
   },
   "source": [
    "__Определение__\n",
    "\n",
    "Линейное пространство $V$ называется _$n$-мерным_, если в нём есть $n$ линейно независимых векторов, а любой набор из множества векторов оказывается линейно зависимым. Число $n$ называется _размерностью_ этого линейного пространства и обозначается $dim V$."
   ]
  },
  {
   "cell_type": "markdown",
   "metadata": {
    "id": "0fqFu0aPkVmI"
   },
   "source": [
    "__Определение__\n",
    "\n",
    "Линейное пространство $V$ называется _бесконечномерным_, если в нём существует любое число линейно независимых элементов."
   ]
  },
  {
   "cell_type": "markdown",
   "metadata": {
    "id": "ZS1nwlq0kVmK"
   },
   "source": [
    "Базис линейного пространства $\\mathbb{R}^{n}$, состоящий из векторов $e_{1}=(1,0...,0), \\; e_{2}=(0,1...,0) ...,e_{n}=(0,0...,1)$, называется _стандартным базисом_ этого пространства."
   ]
  },
  {
   "cell_type": "markdown",
   "metadata": {
    "id": "Z46WpSWZkVmP"
   },
   "source": [
    "__Теорема__\n",
    "\n",
    "Если $V$ — линейное пространство размерности $n$, то любые $n$ линейно независимых элементов этого пространства образуют его базис."
   ]
  },
  {
   "cell_type": "markdown",
   "metadata": {
    "id": "9WnGM8BnkVmX"
   },
   "source": [
    "__Доказательство__\n",
    "\n",
    "Пусть $e_{1}, e_{2}...,e_{n}$ — любая система $n$ линейно независимых векторов пространства $V$. Существование хотя бы одной такой системы вытекает из определения $n$-мерного линейного пространства.\n",
    "\n",
    "Если $u$ — любой элемент пространства $V$, тогда из того же определения следует, что система $(n+1)$ элементов $u, e_{1}, e_{2}...,e_{n}$ линейно зависима, то есть найдутся не все равные нулю вещественные числа $\\alpha_{0},\\alpha_{1},\\alpha_{2}...,\\alpha_{n}$:\n",
    "\n",
    "$$\\alpha_{0}u+\\alpha_{1}e_{1}+\\alpha_{2}e_{2}+...+\\alpha_{n}e_{n}=0.$$\n",
    "\n",
    "$\\alpha_{0}$ отлично от нуля, иначе из предыдущего равенства вытекала бы линейная зависимость векторов $e_{1}, e_{2}...,e_{n}$. \n",
    "\n",
    "Поделив равенство на $\\alpha_{0}$ и положив $\\xi_{1}=-\\frac{\\alpha_{1}}{\\alpha_{0}},\\xi_{2}=-\\frac{\\alpha_{2}}{\\alpha_{0}}...,\\xi_{n}=-\\frac{\\alpha_{n}}{\\alpha_{0}}$, получим:\n",
    "\n",
    "$$u = \\xi_{1}e_{1} + \\xi_{2}e_{2} + . . . + \\xi_{n}e_{n}.$$\n",
    "\n",
    "Так как $u$ — произвольный элемент пространства $V$, последнее равенство доказывает, что система векторов $e_{1}, e_{2}...,e_{n}$ считается базисом пространства $V$."
   ]
  },
  {
   "cell_type": "markdown",
   "metadata": {
    "id": "spBkK4XakVmZ"
   },
   "source": [
    "## Подпространства линейного пространства"
   ]
  },
  {
   "cell_type": "markdown",
   "metadata": {
    "id": "7konrCaZkVma"
   },
   "source": [
    "Подмножество $L$ линейного пространства $V$ называется _подпространством линейного пространства_, если оно образует линейное пространство относительно операций, определённых на $V$."
   ]
  },
  {
   "cell_type": "markdown",
   "metadata": {
    "id": "frmuaH3ukVmr"
   },
   "source": [
    "Другими словами, для подпространства должны выполняться те же аксиомы, что и для исходного линейного пространства. Из этого следует, что подпространство линейного пространства и само по себе считается линейным пространством."
   ]
  },
  {
   "cell_type": "markdown",
   "metadata": {
    "id": "FN1D1eM3kVmt"
   },
   "source": [
    "__Примеры__\n",
    "\n",
    "- Подмножество всех свободных векторов, параллельных некоторой плоскости, считается подпространством линейного пространства всех свободных векторов в трёхмерном пространстве.\n",
    "\n",
    "- Линейное пространство $\\left\\{P_{n}(t)\\right\\}$ всех алгебраических многочленов степени не выше $n$ считается подпространством линейного пространства $C[a,b]$ всех функций $u=u(t)$, определённых и непрерывных на сегменте $a\\leq t \\leq b$.\n",
    "\n",
    "- Подпространством любого линейного пространства будет:\n",
    "\n",
    "    а) само линейное пространство;\n",
    "    \n",
    "    б) множество, состоящее из одного нулевого элемента."
   ]
  },
  {
   "cell_type": "markdown",
   "metadata": {
    "id": "bxtLt-bdkVmu"
   },
   "source": [
    "__Утверждение__\n",
    "\n",
    "Подмножество $L$ линейного пространства $V$ считается его подпространством только тогда, когда для любых элементов $u, v\\in L$ и любого $\\alpha \\in \\mathbb{R}$ выполняются условия:\n",
    "\n",
    "$$1)\\ u+v\\in L;$$\n",
    "\n",
    "$$2)\\ \\alpha\\cdot u \\in L.$$\n",
    "\n"
   ]
  },
  {
   "cell_type": "markdown",
   "metadata": {
    "id": "RqfGOqzzkVmv"
   },
   "source": [
    "__Пример__\n",
    " \n",
    "Определим, будут ли подпространствами линейного пространства $\\mathbb{R}^{3}$ следующие множества:\n",
    " \n",
    "   а) множество всех векторов вида $(0, a, b)$;\n",
    "   \n",
    "   б) множество всех векторов вида $(1, a, b)$.\n",
    "    \n",
    "__Решение__\n",
    " \n",
    "1. Проведя проверку по приведённому утверждению, мы увидим: \n",
    " \n",
    "$$(0, a, b)+(0, c, d) = (0, a+c, b+d),$$ $$\\alpha\\cdot (0, a, b) = (0, \\alpha a, \\alpha b).$$\n",
    " \n",
    " \n",
    "Полученные векторы также принадлежат указанному в задании множеству всех векторов вида $(0, a, b)$, то есть это множество считается подпространством линейного пространства $\\mathbb{R}^{3}$.\n",
    " \n",
    "2. Проведя проверку по приведённому утверждению, мы увидим: \n",
    " \n",
    "$$(1, a, b)+(1, c, d) = (2, a+c, b+d),$$ $$\\alpha\\cdot (1, a, b) = (\\alpha, \\alpha a, \\alpha b).$$\n",
    " \n",
    " \n",
    "Полученные векторы уже не принадлежат указанному в задании множеству всех векторов вида $(1, a, b)$, то есть это множество не подпространство линейного пространства $\\mathbb{R}^{3}$."
   ]
  },
  {
   "cell_type": "markdown",
   "metadata": {
    "id": "rL-3xO5XkVnB"
   },
   "source": [
    "__Определение__\n",
    "\n",
    "Пусть даны два подпространства  $V_{1}$ и $V_{2}$ линейного пространства $V$. Тогда: \n",
    "\n",
    "1. _Объединением подпространств_ $V_{1}$ и $V_{2}$ называется множество элементов $x\\in V$, таких,\n",
    "что $x\\in V_{1}$ либо $x\\in V_{2}$. Объединение подпространств $V_{1}$ и $V_{2}$ обозначается $V_{1}\\cup V_{2}$. \n",
    "\n",
    "\n",
    "2. _Пересечением подпространств_ $V_{1}$ и $V_{2}$ называется множество элементов $x\\in V$, принадлежащих $V_{1}$ и $V_{2}$ одновременно. Пересечение подпространств $V_{1}$ и $V_{2}$ обозначается $V_{1}\\cap V_{2}$.\n",
    "\n",
    "\n",
    "3. _Суммой подпространств_ $V_{1}$ и $V_{2}$ называется совокупность всех элементов $x_{1}+x_{2}\\in V$ при условии, что $x_{1}\\in V_{1}$ и $x_{2}\\in V_{2}$. Сумма подпространств $V_{1}$ и $V_{2}$ обозначается $V_{1}+V_{2}$.\n",
    "\n",
    "\n",
    "4. _Прямой суммой подпространств_ $V_{1}$ и $V_{2}$  называется совокупность всех элементов $x_{1}+x_{2}\\in V$ при условии, что $x_{1}\\in V_{1}$ и $x_{2}\\in V_{2}$ и $V_{1}\\cap V_{2}={0}$. Прямая сумма обозначается $V_{1}\\oplus V_{2}$.\n"
   ]
  },
  {
   "cell_type": "markdown",
   "metadata": {
    "id": "YFvzOOwfkVnD"
   },
   "source": [
    "__Пример__\n",
    "\n",
    "Пусть $R$ — линейное пространство всех свободных векторов в трёхмерном пространстве, $L_{1}$ — подпространство всех свободных векторов, параллельных плоскости $Oxy$, $L_{2}$ — подпространство всех свободных векторов, параллельных плоскости $Oxz$. Тогда суммой подпространств $L_{1}$ и $L_{2}$ будет всё пространство $R$, а их пересечением — множество векторов, параллельных оси $Ox$."
   ]
  },
  {
   "cell_type": "markdown",
   "metadata": {
    "id": "kfK6p16LkVnE"
   },
   "source": [
    "__Утверждение__\n",
    "\n",
    "Сумма размерностей произвольных подпространств $L_{1}$ и $L_{2}$ конечномерного линейного пространства $R$ равна сумме размерности пересечения этих подпространств и размерности их суммы."
   ]
  },
  {
   "cell_type": "markdown",
   "metadata": {
    "id": "MyOFHXCPkVnJ"
   },
   "source": [
    "__Утверждение__\n",
    "\n",
    "Размерность любого подпространства $n$-мерного линейного пространства не превосходит размерности $n$ этого пространства."
   ]
  },
  {
   "cell_type": "markdown",
   "metadata": {
    "id": "ru-WGx__kVnK"
   },
   "source": [
    "__Определение__\n",
    "\n",
    "Возьмём в $n$-мерном линейном пространстве конечный набор векторов $\\{x_{1}, x_{2} ... , x_{k}\\}$. Тогда совокупность всех линейных комбинаций этих векторов образует некоторое подпространство исходного линейного пространства. Она будет называться _линейной оболочкой_ этого множества и обозначаться $L\\{x_{1}, x_{2}... , x_{k}\\}.$"
   ]
  },
  {
   "cell_type": "markdown",
   "metadata": {
    "id": "m4jm1yBgkVnM"
   },
   "source": [
    "## Векторные операции в Python"
   ]
  },
  {
   "cell_type": "markdown",
   "metadata": {
    "id": "lRWUAMI_kVnN"
   },
   "source": [
    "В машинном обучении популярный инструмент — язык Python, вектор считается основной единицей данных. Векторы содержат значения, называемые _признаками_, которые используются для обучения моделей, либо их надо предсказать на основе имеющейся модели. "
   ]
  },
  {
   "cell_type": "markdown",
   "metadata": {
    "id": "l9iareE8kVnQ"
   },
   "source": [
    "Самый простой способ создать вектор в Python — использовать библиотеку NumPy. Используя её, вектор можно задать явно, посредством функции `numpy.array(list, dtype=None ...)`.\n",
    "\n",
    "Параметр `list` — итерируемый объект, из которого можно создать вектор (например, список). А параметр `dtype` задаёт тип данных для значений вектора, например, `int` для целочисленных значений и `float` — для вещественных. Если этот параметр не задан, то тип данных будет определён из типа элементов объекта, заданного в первом аргументе.\n",
    "\n",
    "В NumPy вектор — одномерный массив."
   ]
  },
  {
   "cell_type": "code",
   "execution_count": 23,
   "metadata": {
    "id": "Fb0Nb7CokVnW"
   },
   "outputs": [],
   "source": [
    "import numpy as np"
   ]
  },
  {
   "cell_type": "code",
   "execution_count": 24,
   "metadata": {
    "colab": {
     "base_uri": "https://localhost:8080/"
    },
    "executionInfo": {
     "elapsed": 1968,
     "status": "ok",
     "timestamp": 1618393388594,
     "user": {
      "displayName": "Андрей Коржун",
      "photoUrl": "https://lh3.googleusercontent.com/a-/AOh14GiYXo_DJY--IR27WLi07-XHkZ2YHbsCbQZSCek6=s64",
      "userId": "02793855575918904545"
     },
     "user_tz": -180
    },
    "id": "AidZD6P-kVnr",
    "outputId": "545f3e00-c1b6-460c-c27d-8ee935cd4f97"
   },
   "outputs": [
    {
     "name": "stdout",
     "output_type": "stream",
     "text": [
      "Вектор:\n",
      "[1 2 3]\n"
     ]
    }
   ],
   "source": [
    "a = np.array([1, 2, 3])\n",
    "print(f'Вектор:\\n{a}')"
   ]
  },
  {
   "cell_type": "code",
   "execution_count": 25,
   "metadata": {
    "colab": {
     "base_uri": "https://localhost:8080/"
    },
    "executionInfo": {
     "elapsed": 1942,
     "status": "ok",
     "timestamp": 1618393388595,
     "user": {
      "displayName": "Андрей Коржун",
      "photoUrl": "https://lh3.googleusercontent.com/a-/AOh14GiYXo_DJY--IR27WLi07-XHkZ2YHbsCbQZSCek6=s64",
      "userId": "02793855575918904545"
     },
     "user_tz": -180
    },
    "id": "ALhwHpPmkVoK",
    "outputId": "9c1f80bd-11f1-4fe0-b790-c6250fe9f688"
   },
   "outputs": [
    {
     "name": "stdout",
     "output_type": "stream",
     "text": [
      "Вектор с вещественными значениями:\n",
      "[1 2 3 4 5]\n"
     ]
    }
   ],
   "source": [
    "b = np.array([1, 2, 3, 4, 5], dtype=int)\n",
    "print(f'Вектор с вещественными значениями:\\n{b}')"
   ]
  },
  {
   "cell_type": "code",
   "execution_count": 26,
   "metadata": {
    "colab": {
     "base_uri": "https://localhost:8080/"
    },
    "executionInfo": {
     "elapsed": 1901,
     "status": "ok",
     "timestamp": 1618393388598,
     "user": {
      "displayName": "Андрей Коржун",
      "photoUrl": "https://lh3.googleusercontent.com/a-/AOh14GiYXo_DJY--IR27WLi07-XHkZ2YHbsCbQZSCek6=s64",
      "userId": "02793855575918904545"
     },
     "user_tz": -180
    },
    "id": "GJj2RdbBkVoW",
    "outputId": "60422f77-3419-4d20-bb0c-a38c55c4b218"
   },
   "outputs": [
    {
     "name": "stdout",
     "output_type": "stream",
     "text": [
      "Вектор с булевыми значениями:\n",
      "[ True False False]\n"
     ]
    }
   ],
   "source": [
    "c = np.array([True, False, False], dtype=bool)\n",
    "print(f'Вектор с булевыми значениями:\\n{c}')"
   ]
  },
  {
   "cell_type": "code",
   "execution_count": null,
   "metadata": {
    "id": "ifOdNGMheDF7"
   },
   "outputs": [],
   "source": []
  },
  {
   "cell_type": "markdown",
   "metadata": {
    "id": "ktx8egvOkVoe"
   },
   "source": [
    "Чтобы узнать тип значений вектора, применяется атрибут `vec.dtype`, где `vec` — объект вектора."
   ]
  },
  {
   "cell_type": "code",
   "execution_count": 27,
   "metadata": {
    "colab": {
     "base_uri": "https://localhost:8080/"
    },
    "executionInfo": {
     "elapsed": 1882,
     "status": "ok",
     "timestamp": 1618393388621,
     "user": {
      "displayName": "Андрей Коржун",
      "photoUrl": "https://lh3.googleusercontent.com/a-/AOh14GiYXo_DJY--IR27WLi07-XHkZ2YHbsCbQZSCek6=s64",
      "userId": "02793855575918904545"
     },
     "user_tz": -180
    },
    "id": "lB_Yei4OkVoo",
    "outputId": "4c01350a-be36-4b89-d759-5ddb1f0a9bfd"
   },
   "outputs": [
    {
     "name": "stdout",
     "output_type": "stream",
     "text": [
      "Тип булевого вектора:\n",
      "bool\n"
     ]
    }
   ],
   "source": [
    "print(f'Тип булевого вектора:\\n{c.dtype}')"
   ]
  },
  {
   "cell_type": "markdown",
   "metadata": {
    "id": "71ZB_Y00kVox"
   },
   "source": [
    "Другой способ задания вектора — функция `numpy.arange([start, ]stop, [step, ]...)`, которая задаёт последовательность чисел заданного типа из промежутка [`start`, `stop`), где последнее значение не включается, через шаг `step`:\n"
   ]
  },
  {
   "cell_type": "code",
   "execution_count": 28,
   "metadata": {
    "colab": {
     "base_uri": "https://localhost:8080/"
    },
    "executionInfo": {
     "elapsed": 1857,
     "status": "ok",
     "timestamp": 1618393388622,
     "user": {
      "displayName": "Андрей Коржун",
      "photoUrl": "https://lh3.googleusercontent.com/a-/AOh14GiYXo_DJY--IR27WLi07-XHkZ2YHbsCbQZSCek6=s64",
      "userId": "02793855575918904545"
     },
     "user_tz": -180
    },
    "id": "yHdQQWbRkVoz",
    "outputId": "f505178b-3e12-4ed6-a014-84539d96e554"
   },
   "outputs": [
    {
     "name": "stdout",
     "output_type": "stream",
     "text": [
      "Вектор вещественных чисел от 0 до 5 с шагом 0.2:\n",
      "[0.  0.2 0.4 0.6 0.8 1.  1.2 1.4 1.6 1.8 2.  2.2 2.4 2.6 2.8 3.  3.2 3.4\n",
      " 3.6 3.8 4.  4.2 4.4 4.6 4.8]\n"
     ]
    }
   ],
   "source": [
    "d = np.arange(start=0, stop=5, step=0.2) # последнее значение не включается!\n",
    "print(f'Вектор вещественных чисел от 0 до 5 с шагом 0.2:\\n{d}')"
   ]
  },
  {
   "cell_type": "markdown",
   "metadata": {
    "id": "RCn_RxMfkVpH"
   },
   "source": [
    "Атрибут `numpy.array.shape`, показывающий размеры массива, в случае вектора будет показывать его длину, так как второго измерения нет:"
   ]
  },
  {
   "cell_type": "code",
   "execution_count": 29,
   "metadata": {
    "colab": {
     "base_uri": "https://localhost:8080/"
    },
    "executionInfo": {
     "elapsed": 1838,
     "status": "ok",
     "timestamp": 1618393388624,
     "user": {
      "displayName": "Андрей Коржун",
      "photoUrl": "https://lh3.googleusercontent.com/a-/AOh14GiYXo_DJY--IR27WLi07-XHkZ2YHbsCbQZSCek6=s64",
      "userId": "02793855575918904545"
     },
     "user_tz": -180
    },
    "id": "PzennH4_kVpJ",
    "outputId": "45ea223c-0e92-4421-8354-f1b8dd208e16"
   },
   "outputs": [
    {
     "name": "stdout",
     "output_type": "stream",
     "text": [
      "Длина вектора d: (25,)\n"
     ]
    }
   ],
   "source": [
    "print(f'Длина вектора d: {d.shape}')"
   ]
  },
  {
   "cell_type": "markdown",
   "metadata": {
    "id": "WCvqRNrlkVpU"
   },
   "source": [
    "Используя NumPy, можно совершать различные векторные операции, в том числе складывать векторы, умножать вектор на число и другой вектор (покоординатно)."
   ]
  },
  {
   "cell_type": "code",
   "execution_count": 30,
   "metadata": {
    "colab": {
     "base_uri": "https://localhost:8080/"
    },
    "executionInfo": {
     "elapsed": 1818,
     "status": "ok",
     "timestamp": 1618393388626,
     "user": {
      "displayName": "Андрей Коржун",
      "photoUrl": "https://lh3.googleusercontent.com/a-/AOh14GiYXo_DJY--IR27WLi07-XHkZ2YHbsCbQZSCek6=s64",
      "userId": "02793855575918904545"
     },
     "user_tz": -180
    },
    "id": "GIZNX3cbkVpW",
    "outputId": "f3211059-63ec-47c8-d911-4f7d59ee58e5"
   },
   "outputs": [
    {
     "name": "stdout",
     "output_type": "stream",
     "text": [
      "Вектор a: [1 2 3]\n",
      "Вектор b: [4 5 6]\n",
      "Число k: 2\n"
     ]
    }
   ],
   "source": [
    "a = np.array([1, 2, 3])\n",
    "b = np.array([4, 5, 6])\n",
    "k = 2\n",
    "\n",
    "print(f'Вектор a: {a}')\n",
    "print(f'Вектор b: {b}')\n",
    "print(f'Число k: {k}')"
   ]
  },
  {
   "cell_type": "code",
   "execution_count": 31,
   "metadata": {
    "colab": {
     "base_uri": "https://localhost:8080/"
    },
    "executionInfo": {
     "elapsed": 1798,
     "status": "ok",
     "timestamp": 1618393388628,
     "user": {
      "displayName": "Андрей Коржун",
      "photoUrl": "https://lh3.googleusercontent.com/a-/AOh14GiYXo_DJY--IR27WLi07-XHkZ2YHbsCbQZSCek6=s64",
      "userId": "02793855575918904545"
     },
     "user_tz": -180
    },
    "id": "cyIPt-bokVpe",
    "outputId": "84cc215f-08b2-4d74-af90-e03a7876952c"
   },
   "outputs": [
    {
     "name": "stdout",
     "output_type": "stream",
     "text": [
      "Вектор a + b: [5 7 9]\n"
     ]
    }
   ],
   "source": [
    "print(f'Вектор a + b: {a + b}')"
   ]
  },
  {
   "cell_type": "code",
   "execution_count": 32,
   "metadata": {
    "colab": {
     "base_uri": "https://localhost:8080/"
    },
    "executionInfo": {
     "elapsed": 1774,
     "status": "ok",
     "timestamp": 1618393388630,
     "user": {
      "displayName": "Андрей Коржун",
      "photoUrl": "https://lh3.googleusercontent.com/a-/AOh14GiYXo_DJY--IR27WLi07-XHkZ2YHbsCbQZSCek6=s64",
      "userId": "02793855575918904545"
     },
     "user_tz": -180
    },
    "id": "PuISb7PDkVpn",
    "outputId": "be2372cf-c99f-45fc-e86d-76a386720c34"
   },
   "outputs": [
    {
     "name": "stdout",
     "output_type": "stream",
     "text": [
      "Вектор a - b: [-3 -3 -3]\n"
     ]
    }
   ],
   "source": [
    "print(f'Вектор a - b: {a - b}')"
   ]
  },
  {
   "cell_type": "code",
   "execution_count": 33,
   "metadata": {
    "colab": {
     "base_uri": "https://localhost:8080/"
    },
    "executionInfo": {
     "elapsed": 1754,
     "status": "ok",
     "timestamp": 1618393388631,
     "user": {
      "displayName": "Андрей Коржун",
      "photoUrl": "https://lh3.googleusercontent.com/a-/AOh14GiYXo_DJY--IR27WLi07-XHkZ2YHbsCbQZSCek6=s64",
      "userId": "02793855575918904545"
     },
     "user_tz": -180
    },
    "id": "hWV0twetkVp0",
    "outputId": "8eb52a68-ee7d-4028-e763-78e458f8693f"
   },
   "outputs": [
    {
     "name": "stdout",
     "output_type": "stream",
     "text": [
      "Вектор ka: [2 4 6]\n"
     ]
    }
   ],
   "source": [
    "print(f'Вектор ka: {k * a}')"
   ]
  },
  {
   "cell_type": "code",
   "execution_count": 34,
   "metadata": {
    "colab": {
     "base_uri": "https://localhost:8080/"
    },
    "executionInfo": {
     "elapsed": 1729,
     "status": "ok",
     "timestamp": 1618393388634,
     "user": {
      "displayName": "Андрей Коржун",
      "photoUrl": "https://lh3.googleusercontent.com/a-/AOh14GiYXo_DJY--IR27WLi07-XHkZ2YHbsCbQZSCek6=s64",
      "userId": "02793855575918904545"
     },
     "user_tz": -180
    },
    "id": "ws-fEepikVp_",
    "outputId": "5dcacc6f-429f-4c70-d5f3-a0dbf03d41ca"
   },
   "outputs": [
    {
     "name": "stdout",
     "output_type": "stream",
     "text": [
      "Покоординатное умножение векторов a и b: [ 4 10 18]\n"
     ]
    }
   ],
   "source": [
    "print(f'Покоординатное умножение векторов a и b: {a * b}')"
   ]
  },
  {
   "cell_type": "markdown",
   "metadata": {},
   "source": [
    "### Такой операции в линейной алгебре нет!"
   ]
  },
  {
   "cell_type": "markdown",
   "metadata": {
    "id": "E5wedvSckVqF"
   },
   "source": [
    "Другие векторные операции мы рассмотрим в следующих уроках."
   ]
  },
  {
   "cell_type": "markdown",
   "metadata": {
    "id": "xH8_mN7okVqG"
   },
   "source": [
    "## Примеры задач"
   ]
  },
  {
   "cell_type": "markdown",
   "metadata": {
    "id": "ciXbchOhkVqH"
   },
   "source": [
    "Для векторов $x, y, z$ и вещественных чисел $\\alpha_{i}$ решим следующие задачи:"
   ]
  },
  {
   "cell_type": "markdown",
   "metadata": {
    "id": "p4uFqdlPkVqI"
   },
   "source": [
    "__1.__ Известно, что векторы некоторого линейного пространства $x$, $y$ и $z$ линейно независимы. Будут ли линейно независимы слеудующие векторы: $x-y, y-z, z-x?$\n",
    "\n",
    "__Решение__\n",
    "\n",
    "Заметим, что $x-y=-((y-z)+(z-x))$, то есть один из векторов — линейная комбинация двух остальных. Из этого следует, что векторы линейно зависимы."
   ]
  },
  {
   "cell_type": "markdown",
   "metadata": {
    "id": "ypvfV9tckVqL"
   },
   "source": [
    "__2.__ Известно, что векторы некоторого линейного пространства $x$, $y$ и $z$ линейно независимы. Будут ли линейно независимы слеудующие векторы: $x, x+y, x+y+z?$\n",
    "\n",
    "__Решение__\n",
    "\n",
    "Приравняем линейную комбинацию этих векторов к нулевому вектору:\n",
    "$$\\alpha_{1}x+\\alpha_{2}(x+y)+\\alpha_{3}(x+y+z)=0.$$\n",
    "Учитывая свойства линейных пространств, мы можем раскрыть скобки и преобразовать полученное уравнение к виду:\n",
    "$$(\\alpha_{1}+\\alpha_{2}+\\alpha_{3})x+(\\alpha_{2}+\\alpha_{3})y+\\alpha_{3}z=0.$$\n",
    "Тогда, если векторы линейно независимы, можно сделать вывод, что все коэффициенты должны равняться нулю. Получаем систему уравнений:\n",
    "$$\\begin{cases}\n",
    " \\alpha_{1}+\\alpha_{2}+\\alpha_{3}=0,\\\\\n",
    " \\alpha_{2}+\\alpha_{3}=0,\\\\\n",
    " \\alpha_{3}=0,\n",
    "\\end{cases}$$\n",
    "откуда следует, что $\\alpha_{1}=\\alpha_{2}=\\alpha_{3}=0$. Таким образом, векторы $x, x+y, x+y+z$ линейно независимы."
   ]
  },
  {
   "cell_type": "markdown",
   "metadata": {
    "id": "UlCV60j8kVqM"
   },
   "source": [
    "__3.__ Исследовать на линейную зависимость:\n",
    "$$f_{1}(x)=x^{2}+5, f_{2}(x)=x^{2}, f_{3}(x)=1.$$\n",
    " \n",
    "__Решение__\n",
    " \n",
    "Заметим, что $f_{1}(x)=f_{2}(x)+5f_{3}(x)$, то есть вектор $f_{1}(x)$ — линейная комбинация векторов $f_{2}(x)$ и $f_{3}(x)$, из чего можно сделать вывод, что $f_{1}(x)=x^{2}+5$ и $f_{2}(x)=x^{2}$, $f_{3}(x)=1$ линейно зависимы."
   ]
  },
  {
   "cell_type": "markdown",
   "metadata": {
    "id": "DkGHOBdkkVqO"
   },
   "source": [
    "__4.__ Найти координаты вектора $x = (2, 3, 5)\\in \\mathbb{R}^{3}$ в стандартном базисе трёхмерного пространства.\n",
    "\n",
    "> Indented block\n",
    "\n",
    "> Indented block\n",
    "\n",
    "\n",
    "\n",
    "\n",
    "\n",
    "__Решение__\n",
    "\n",
    "Стандартный базис линейного пространства $\\mathbb{R}^{3}$ образует векторы \n",
    "$e_{1}=(1, 0, 0)$, $e_{2}=(0, 1, 0)$, $e_{3}=(0, 0, 1)$.\n",
    "Тогда:\n",
    "\n",
    "$$x=(2, 3, 5)=(2,0,0)+(0, 3, 0)+(0, 0, 5)=2\\cdot(1, 0, 0)+3\\cdot(0, 1, 0)+5\\cdot(0, 0, 1)=2e_{1}+3e_{2}+5e_{3},$$\n",
    "\n",
    "\n",
    "то есть координаты вектора $x$ в стандартном базисе — $2$, $3$, $5$."
   ]
  },
  {
   "cell_type": "markdown",
   "metadata": {
    "id": "aU5YNMH9kVqP"
   },
   "source": [
    "## Практическое задание"
   ]
  },
  {
   "cell_type": "markdown",
   "metadata": {
    "id": "NaYoffkueD8U"
   },
   "source": [
    "__1.__ Исследуйте на линейную зависимость:\n",
    "\n",
    "$$f_{1}(x)=e^{x}, f_{2}(x)=1, f_{3}(x)=x+1, f_{4}(x)=x-e^{x}.$$\n"
   ]
  },
  {
   "cell_type": "markdown",
   "metadata": {
    "id": "cECfCSANkVqR"
   },
   "source": [
    "__2.__ Исследуйте на линейную зависимость:\n",
    "$$f_{1}(x)=2, f_{2}(x)=x, f_{3}(x)=x^{2}, f_{4}(x)=(x+1)^{2}$$"
   ]
  },
  {
   "cell_type": "markdown",
   "metadata": {
    "id": "DFrjdtbHkVqS"
   },
   "source": [
    "__3.__ Найдите координаты вектора $x = (2, 3, 5)\\in \\mathbb{R}^{3}$ в базисе $b_{1}=(0, 0, 10)$, $b_{2}=(2, 0, 0)$, $b_{3}=(0, 1, 0)$.\n"
   ]
  },
  {
   "cell_type": "markdown",
   "metadata": {
    "id": "5la-eVLukVqT"
   },
   "source": [
    "__4.__ Найдите координаты вектора $3x^{2}-2x+2\\in\\mathbb{R}^{3}[x]$:\n",
    "\n",
    "а) в базисе $1$, $x$, $x^{2}$;\n",
    "\n",
    "б) в базисе $x^{2}$, $x-1$, $1$."
   ]
  },
  {
   "cell_type": "markdown",
   "metadata": {
    "id": "kQlell_GkVqU"
   },
   "source": [
    "__5.__ Установите, считается ли линейным подпространством:\n",
    "\n",
    "а) совокупность всех векторов трёхмерного пространства, у которых по крайней мере одна из первых двух координат равна нулю;\n",
    "    \n",
    "б) все векторы, считающиеся линейными комбинациями данных векторов $\\{u_{1}, u_{2} \\ldots, u_{n}\\}$."
   ]
  },
  {
   "cell_type": "markdown",
   "metadata": {
    "id": "c9EHjpDAc7Zy"
   },
   "source": [
    "# Линейное пространство. Основные понятия. Часть 2"
   ]
  },
  {
   "cell_type": "markdown",
   "metadata": {
    "id": "wua5iO3ec7Zz"
   },
   "source": [
    "## Евклидово пространство"
   ]
  },
  {
   "cell_type": "markdown",
   "metadata": {
    "id": "Z04nPQHDc7Z1"
   },
   "source": [
    "__Определение__\n",
    "\n",
    "Линейное пространство над полем вещественных чисел называется _евклидовым пространством_, если на нём введено правило, согласно которому каждой упорядоченной паре векторов $x$ и $y$ поставлено в соответствие вещественное число, называемое _скалярным произведением_ и обозначаемое символом $(x, y)$. В зарубежной литературе как правило изображается треугольниками: <x,y>.\n",
    "\n",
    "Указанное правило должно подчиняться четырём аксиомам:<br>\n",
    "1) $(x,y)=(y,x).$<br>\n",
    "2) $(\\lambda x, y)=\\lambda(x, y).$<br>\n",
    "3) $(x_{1}+x_{2},y)=(x_{1},y)+(x_{2},y).$<br>\n",
    "4) $(x, x)\\geq0$, причём $(x,x)=0\\Leftrightarrow x=0.$\n",
    "\n"
   ]
  },
  {
   "cell_type": "markdown",
   "metadata": {
    "id": "yQfL1Uz0c7Z2"
   },
   "source": [
    "__Пример__\n",
    "\n",
    "Из школьной программы известно, что в стандартном понимании в трёхмерном пространстве скалярное произведение двух векторов определяется как произведение длин этих векторов на косинус угла между ними (см. рис.):\n",
    "\n",
    "$$(x, y) = \\left|x\\right|\\cdot\\left|y\\right|\\cdot cos\\alpha.$$\n",
    "\n",
    "$||x||_{2} = |x|$"
   ]
  },
  {
   "cell_type": "code",
   "execution_count": 35,
   "metadata": {
    "id": "MED517L-c7Z5"
   },
   "outputs": [],
   "source": [
    "\n",
    "# запустите последовательно код в ячейках, чтобы отобразить иллюстрации\n",
    "import matplotlib.pyplot as plt"
   ]
  },
  {
   "cell_type": "code",
   "execution_count": 36,
   "metadata": {
    "colab": {
     "base_uri": "https://localhost:8080/",
     "height": 258
    },
    "executionInfo": {
     "elapsed": 1163,
     "status": "ok",
     "timestamp": 1618339968649,
     "user": {
      "displayName": "Максим Кащенко",
      "photoUrl": "https://lh3.googleusercontent.com/a-/AOh14GieA19wRbITvkurZk9FMkX3aR5_ver6HV0cH4n9Cw=s64",
      "userId": "16839127760996034057"
     },
     "user_tz": -180
    },
    "id": "0XE1K47qc7Z_",
    "outputId": "1421c131-8c74-4744-9903-f2d768bf3df0"
   },
   "outputs": [
    {
     "data": {
      "image/png": "[encoded data removed]",
      "text/plain": [
       "<Figure size 432x288 with 1 Axes>"
      ]
     },
     "metadata": {
      "needs_background": "light"
     },
     "output_type": "display_data"
    }
   ],
   "source": [
    "fig = plt.figure()\n",
    "ax = fig.add_subplot(1,1,1)\n",
    "\n",
    "ax.spines['left'].set_position('zero')\n",
    "ax.spines['bottom'].set_position('zero')\n",
    "\n",
    "ax.spines['right'].set_color('none')\n",
    "ax.spines['top'].set_color('none')\n",
    "\n",
    "plt.axis('scaled')\n",
    "plt.xlim(-2, 2)\n",
    "plt.ylim(-2, 2)\n",
    "\n",
    "ax.arrow(0, 0, 0.6, 2, head_width=0.15, head_length=0.2, length_includes_head=True, facecolor='red')\n",
    "ax.arrow(0, 0, 2, 0.4, head_width=0.15, head_length=0.2, length_includes_head=True, facecolor='black')\n",
    "ax.annotate(\"y\", xy=(1.8, 0.6))\n",
    "ax.annotate(\"x\", xy=(0.7, 1.8))\n",
    "ax.annotate(\"\\u03B1\", xy=(0.2, 0.2))\n",
    "\n",
    "plt.show()"
   ]
  },
  {
   "cell_type": "markdown",
   "metadata": {
    "id": "gNaC1A6Kc7aJ"
   },
   "source": [
    "Это правило удовлетворяет введённым ранее аксиомам скалярного произведения. Таким образом, приведённое в примере пространство всех свободных векторов с определённым скалярным произведением считается евклидовым пространством."
   ]
  },
  {
   "cell_type": "markdown",
   "metadata": {
    "id": "dy6anLLgc7aK"
   },
   "source": [
    "__Пример__\n",
    "\n",
    "Примером евклидова пространства будет выступать $n$-мерное линейное пространство $\\mathbb{R}^{n}$ упорядоченных совокупностей $n$ вещественных чисел, скалярное произведение векторов $x=(a_{1},a_{2}...,a_{n})$ и $y=(b_{1},b_{2}...,b_{n})$ на котором определено как:\n",
    "\n",
    "$$(x,y)=a_{1}b_{1}+a_{2}b_{2}+...+a_{n}b_{n}.$$"
   ]
  },
  {
   "cell_type": "markdown",
   "metadata": {
    "id": "LrvAun4Zc7aL"
   },
   "source": [
    "Очевидно, что определённые ранее аксиомы выполняются для этого правила."
   ]
  },
  {
   "cell_type": "markdown",
   "metadata": {
    "id": "xZm-Q3Wrc7aN"
   },
   "source": [
    "То есть скалярное произведение между двумя векторами $x=(1,2,3)$ и $y=(4,5,6)$, принадлежащими пространству $\\mathbb{R}^{3}$, будет равняться:\n",
    "\n",
    "$$(x,y)=1\\cdot4+2\\cdot5+3\\cdot6=4 + 10 + 18=32.$$"
   ]
  },
  {
   "cell_type": "markdown",
   "metadata": {
    "id": "CVVshT14c7aO"
   },
   "source": [
    "В Python cкалярное произведение двух векторов вычисляется по функции `numpy.dot(a, b)` или методу `vec1.dot(vec2)`, где `vec1` и `vec2` — исходные векторы."
   ]
  },
  {
   "cell_type": "code",
   "execution_count": 37,
   "metadata": {
    "id": "DwrZVBJfc7aP"
   },
   "outputs": [],
   "source": [
    "import numpy as np"
   ]
  },
  {
   "cell_type": "code",
   "execution_count": 38,
   "metadata": {
    "colab": {
     "base_uri": "https://localhost:8080/"
    },
    "executionInfo": {
     "elapsed": 777,
     "status": "ok",
     "timestamp": 1618339978740,
     "user": {
      "displayName": "Максим Кащенко",
      "photoUrl": "https://lh3.googleusercontent.com/a-/AOh14GieA19wRbITvkurZk9FMkX3aR5_ver6HV0cH4n9Cw=s64",
      "userId": "16839127760996034057"
     },
     "user_tz": -180
    },
    "id": "Ka3mFpRtW-9d",
    "outputId": "4c74820f-7b78-484e-a891-d2a3abe9bbf2"
   },
   "outputs": [
    {
     "name": "stdout",
     "output_type": "stream",
     "text": [
      "Скалярное произведение a и b:\n",
      "32\n",
      "Скалярное произведение a и b:\n",
      "32\n",
      "Скалярное произведение a и b:\n",
      "32\n"
     ]
    }
   ],
   "source": [
    "a = np.array([1, 2, 3])\n",
    "b = np.array([4, 5,6])\n",
    "print(f'Скалярное произведение a и b:\\n{np.dot(a, b)}')\n",
    "print(f'Скалярное произведение a и b:\\n{a.dot(b)}')\n",
    "print(f'Скалярное произведение a и b:\\n{a @ b}')"
   ]
  },
  {
   "cell_type": "markdown",
   "metadata": {
    "id": "kHg_vsjhc7ad"
   },
   "source": [
    "Введём теперь такие важные понятия, как _метрика_, _норма_ (или _длина_) вектора и _угол_ между векторами в произвольном евклидовом пространстве. Для этого надо ввести понятие _линейных нормированных пространств._"
   ]
  },
  {
   "cell_type": "markdown",
   "metadata": {
    "id": "VasUbr7Qc7af"
   },
   "source": [
    "### Линейные нормированные пространства"
   ]
  },
  {
   "cell_type": "markdown",
   "metadata": {
    "id": "QvHQeSnlc7ah"
   },
   "source": [
    "Для обобщения понятия длины вектора используется понятие _нормы_."
   ]
  },
  {
   "cell_type": "markdown",
   "metadata": {
    "id": "7ijI-1nIc7ai"
   },
   "source": [
    "__Определение__\n",
    "\n",
    "Линейное пространство $R$ называется _нормированным_, если на нём введено правило, согласно которому каждому элементу $x$ ставится в соответствие число, называемое _нормой_ (или _длиной_) этого элемента и обозначаемое символом $\\left\\|x\\right\\|$.\n",
    "\n",
    "Оно подчиняется трём аксиомам:<br>\n",
    "1) $\\left\\|x\\right\\|\\geq0$, причём $\\left\\|x\\right\\|=0\\Leftrightarrow x=0.$<br>\n",
    "2) $\\left\\|\\lambda x\\right\\|$ = $|\\lambda|\\left\\|x\\right\\|$.<br>\n",
    "3) $\\left\\| x + y \\right\\|$ <= $\\left\\|x\\right\\|$ + $\\left\\|y\\right\\|$.\n",
    "\n",
    "Последняя аксиома называется _неравенством треугольника_, или _неравенством Минковского_."
   ]
  },
  {
   "cell_type": "markdown",
   "metadata": {
    "id": "Ey4wIr-fc7aj"
   },
   "source": [
    "__Примеры__\n",
    "\n",
    "Есть много способов определения нормы.\n",
    "\n",
    "- $p$-норма (норма Гёльдера) для вектора $x = (x_{1} \\dots, x_{n}) \\in \\mathbb{R}^{n}$ вычисляется по формуле:\n",
    "\n",
    "$$\\left\\| x \\right\\|_{p} = \\left( \\sum_{i} \\left| x_{i} \\right|^{p} \\right)^{1 / p},~p \\geq 1.$$\n",
    "\n",
    "В частных случаях:\n",
    "\n",
    "- при $p = 1$ получаем $\\ell_{1}$ норму — _манхэттенская норма_, или _манхэттенское расстояние_:\n",
    "\n",
    "$$\\left\\|x\\right\\|_{1} = \\sum_{i}|x_{i}|;$$\n",
    "\n",
    "- при $p = 2$ получаем $\\ell_{2}$ норму — _евклидова норма_, часто используемая:\n",
    "\n",
    "$$\\left\\|x\\right\\|_{2} = \\sqrt{\\sum_{i}|x_{i}|^{2}}.$$"
   ]
  },
  {
   "cell_type": "markdown",
   "metadata": {
    "id": "5UOsib7Pc7am"
   },
   "source": [
    "Определим норму вектора вручную, воспользовавшись Python.\n",
    "\n",
    "Для выполнения операций линейной алгебры в Python используется модуль `numpy.linalg`. Для вычисления различных норм используется функция `numpy.linalg.norm(x, ord=None)`, где `x` — исходный вектор, `ord` — параметр, обозначенный выше как $p$ и определяющий норму."
   ]
  },
  {
   "cell_type": "code",
   "execution_count": 39,
   "metadata": {
    "id": "H9M6n4a6c7ao"
   },
   "outputs": [],
   "source": [
    "from numpy.linalg import norm"
   ]
  },
  {
   "cell_type": "markdown",
   "metadata": {
    "id": "pDIsUYZoc7at"
   },
   "source": [
    "Зададим вектор $a=(1,2,-3)$:"
   ]
  },
  {
   "cell_type": "code",
   "execution_count": 40,
   "metadata": {
    "id": "hwrsGk9DVFQr"
   },
   "outputs": [],
   "source": [
    "a = np.array([1, 2, -3])"
   ]
  },
  {
   "cell_type": "code",
   "execution_count": null,
   "metadata": {
    "id": "3WOx7uWxXOzd"
   },
   "outputs": [],
   "source": []
  },
  {
   "cell_type": "markdown",
   "metadata": {
    "id": "KskdkMSkc7ay"
   },
   "source": [
    "Определим манхэттенскую норму вектора $a$:\n",
    "\n",
    "$$\\left\\|x\\right\\|_{1} = |1|+|2|+|-3|=6.$$"
   ]
  },
  {
   "cell_type": "code",
   "execution_count": 41,
   "metadata": {
    "colab": {
     "base_uri": "https://localhost:8080/"
    },
    "executionInfo": {
     "elapsed": 1296,
     "status": "ok",
     "timestamp": 1618256724780,
     "user": {
      "displayName": "Андрей Коржун",
      "photoUrl": "https://lh3.googleusercontent.com/a-/AOh14GiYXo_DJY--IR27WLi07-XHkZ2YHbsCbQZSCek6=s64",
      "userId": "02793855575918904545"
     },
     "user_tz": -180
    },
    "id": "M-c6m83dXVWQ",
    "outputId": "f8b1a7e2-8ca7-49fa-dfd0-2e144636ba48"
   },
   "outputs": [
    {
     "name": "stdout",
     "output_type": "stream",
     "text": [
      "l1 Манхэттенская норма вектора a:\n",
      "6.0\n"
     ]
    }
   ],
   "source": [
    "print(f'l1 Манхэттенская норма вектора a:\\n{norm(a, ord=1)}')\n"
   ]
  },
  {
   "cell_type": "markdown",
   "metadata": {
    "id": "DmZb7h1Lc7a5"
   },
   "source": [
    "Определим евклидову норму вектора $a$:\n",
    "\n",
    "$$\\left\\|x\\right\\|_{2} = \\sqrt{1^{2}+2^{2}+(-3)^{2}}=\\sqrt{14}.$$"
   ]
  },
  {
   "cell_type": "code",
   "execution_count": 42,
   "metadata": {
    "colab": {
     "base_uri": "https://localhost:8080/"
    },
    "executionInfo": {
     "elapsed": 1290,
     "status": "ok",
     "timestamp": 1618256724781,
     "user": {
      "displayName": "Андрей Коржун",
      "photoUrl": "https://lh3.googleusercontent.com/a-/AOh14GiYXo_DJY--IR27WLi07-XHkZ2YHbsCbQZSCek6=s64",
      "userId": "02793855575918904545"
     },
     "user_tz": -180
    },
    "id": "yQVpUMwCXaxq",
    "outputId": "0da29ef1-f871-4a38-859e-79bec748b32e"
   },
   "outputs": [
    {
     "name": "stdout",
     "output_type": "stream",
     "text": [
      "l2 Евклидова норма вектора а:\n",
      "3.7416573867739413\n"
     ]
    }
   ],
   "source": [
    "print(f'l2 Евклидова норма вектора а:\\n{norm(a, ord=2)}')\n",
    "# l2 евклидова норма вектора а:\n",
    "# 3.7416573867739413"
   ]
  },
  {
   "cell_type": "markdown",
   "metadata": {
    "id": "0Rx5dazjc7bA"
   },
   "source": [
    "Можем убедиться, что различные нормы дают разные значения для одного и того же вектора."
   ]
  },
  {
   "cell_type": "markdown",
   "metadata": {
    "id": "mtsZ1ln-c7bB"
   },
   "source": [
    "__Теорема__\n",
    "\n",
    "Всякое евклидово пространство считается нормированным, если норму любого элемента $x$ в нём определить как:\n",
    "\n",
    "$$\\left\\|x\\right\\| = \\sqrt{(x,x)}.$$"
   ]
  },
  {
   "cell_type": "markdown",
   "metadata": {
    "id": "L72LpJQtc7bD"
   },
   "source": [
    "Для любых $x,y$, принадлежащих евклидову пространству $E$ с так определённой нормой, имеет место неравенство:\n",
    "\n",
    "$$|(x,y)|\\leq\\left\\|x\\right\\| \\left\\|y\\right\\|.$$\n",
    "\n",
    "Это выражение называется _неравенством Коши-Буняковского_."
   ]
  },
  {
   "cell_type": "markdown",
   "metadata": {
    "id": "bPumnjaJc7bE"
   },
   "source": [
    "Докажем его. Возьмём вещественный элемент $\\lambda$ и рассмотрим элемент $x- \\lambda y\\in E$. \n",
    "\n",
    "Согласно аксиоме 4 для евклидова пространства, \n",
    "\n",
    "$$0\\leq(x-\\lambda y, x-\\lambda y)=(x,x)-2(x,y)\\lambda +(y,y)\\lambda^{2}.$$\n",
    "\n",
    "Полученный квадратный трёхчлен относительно $\\lambda$ считается уравнением параболы. Так как он больше или равен нулю при всех $\\lambda$, геометрически означает, что квадратное уравнение: \n",
    "\n",
    "$$(y,y)\\lambda^{2}-2(x,y)\\lambda +(x,x)=0$$\n",
    "\n",
    "либо вовсе не имеет корней, либо имеет один корень. А это возможно только тогда, когда дискриминант такого уравнения меньше или равен нулю:\n",
    "\n",
    "$$D=4(x,y)^{2}-4(x,x)(y,y)\\leq0,$$\n",
    "\n",
    "из чего следует, что\n",
    "\n",
    "$$(x,y)^{2}\\leq\\left\\|x\\right\\|^{2}\\left\\|y\\right\\|^{2}.$$\n",
    "\n",
    "Неравенство Коши-Буняковского доказано."
   ]
  },
  {
   "cell_type": "markdown",
   "metadata": {
    "id": "3iEqrvecc7bF"
   },
   "source": [
    "__Определение__\n",
    "\n",
    "В любом вещественном евклидовом пространстве можно ввести понятие _угла_ между двумя произвольными элементами $x$ и $y$. Углом $\\varphi \\in [0, \\pi]$ между этими элементами назовём угол, косинус которого определяется соотношением:\n",
    "\n",
    "$$cos\\varphi = \\frac{(x,y)}{\\left \\|x\\right \\|\\cdot\\left \\|y\\right \\|}.$$"
   ]
  },
  {
   "cell_type": "markdown",
   "metadata": {
    "id": "-nJGUXBLc7bG"
   },
   "source": [
    "__Пример__\n",
    "\n",
    "Определим угол между векторами $a=(1,2,3)$, $b=(4,5,6)$."
   ]
  },
  {
   "cell_type": "code",
   "execution_count": 43,
   "metadata": {
    "id": "Uefv3uBjc7bI"
   },
   "outputs": [],
   "source": [
    "a = np.array([1, 2, 3])\n",
    "b = np.array([4, 5, 6])"
   ]
  },
  {
   "cell_type": "markdown",
   "metadata": {
    "id": "-SyO8gvJc7bO"
   },
   "source": [
    "$$cos\\varphi = \\frac{1\\cdot4+2\\cdot5+3\\cdot6}{\\sqrt{1^{2}+2^{2}+3^{2}}\\sqrt{4^{2}+5^{2}+6^{2}}}=\\frac{32}{\\sqrt{1078}}\\approx 0.97$$"
   ]
  },
  {
   "cell_type": "code",
   "execution_count": 44,
   "metadata": {
    "colab": {
     "base_uri": "https://localhost:8080/",
     "height": 180
    },
    "executionInfo": {
     "elapsed": 628,
     "status": "error",
     "timestamp": 1618784349180,
     "user": {
      "displayName": "Алексей Русинов",
      "photoUrl": "https://lh3.googleusercontent.com/a-/AOh14GgXpBWH7stxzH8ijaioDahwowCAL_J6_iJr3Dnt=s64",
      "userId": "15328846804207945735"
     },
     "user_tz": -120
    },
    "id": "Vo5de6euXq1a",
    "outputId": "2d629610-113d-4d43-c2f3-9434032915de"
   },
   "outputs": [],
   "source": [
    "cos_phi = np.dot(a, b) / norm(a) / norm(b)\n"
   ]
  },
  {
   "cell_type": "markdown",
   "metadata": {
    "id": "x4_NxqYrc7bY"
   },
   "source": [
    "Два произвольных элемента $x$ и $y$ евклидова пространства $E$ называются _ортогональными_, если их скалярное произведение равно нулю. В этом случае косинус угла $\\varphi$ между этими элементами будет равен нулю."
   ]
  },
  {
   "cell_type": "markdown",
   "metadata": {
    "id": "ez9nUOZxc7ba"
   },
   "source": [
    "### Метрические пространства"
   ]
  },
  {
   "cell_type": "markdown",
   "metadata": {
    "id": "JGDcLQzvc7bb"
   },
   "source": [
    "Понятие расстояния в контексте машинного обучения обобщается посредством _метрики_."
   ]
  },
  {
   "cell_type": "markdown",
   "metadata": {
    "id": "m7iu-UITc7be"
   },
   "source": [
    "__Определение__\n",
    "\n",
    "Пара $(E, d)$, где $E$ — множество, а $d: E\\times E \\rightarrow \\mathbb{R}$ — вещественнозначная функция, называется _метрическим пространством_, если для всех $x,y,z\\in E$ выполняются условия:<br>\n",
    "1) $d(x,y)=d(y,x);$<br>\n",
    "2) $d(x,x)=0$; $d(x,y)>0$, если $x \\neq y$;<br>\n",
    "3) $d(x,z) \\leq d(x,y) + d(y,z)$ (неравенство треугольника).\n",
    "\n",
    "Функция $d$ с такими свойствами иногда обозначается  $\\left | x-y \\right |$ и называется _метрикой_, а $d(x,y)$ — _расстоянием между точками $x,y$.\n",
    "В зарубежной литературе обозначается $\\rho$"
   ]
  },
  {
   "cell_type": "markdown",
   "metadata": {
    "id": "Ch3ftAD5c7bf"
   },
   "source": [
    "Любое нормированное пространство можно превратить в метрическое, определив $d(x,y) = \\left\\|x-y\\right\\|$."
   ]
  },
  {
   "cell_type": "markdown",
   "metadata": {
    "id": "6fu25sQ4c7bi"
   },
   "source": [
    "__Пример__\n",
    "\n",
    "Как и в случае нормы, есть ряд различных методик определения метрики, например, _евклидова метрика_\n",
    " \n",
    "$$d_{2}(x,y) = \\sqrt{\\sum_{i}(x_{i}-y_{i})^{2}}$$\n",
    "\n",
    "и _манхэттенская метрика_:\n",
    "\n",
    "$$d_{1}(x,y) = \\sum_{i}|x_{i}-y_{i}|.$$"
   ]
  },
  {
   "cell_type": "markdown",
   "metadata": {
    "id": "w-HqJgBUc7bj"
   },
   "source": [
    "Определим расстояние между векторами $a=(1,2,3)$, $b=(4,5,6)$."
   ]
  },
  {
   "cell_type": "code",
   "execution_count": 45,
   "metadata": {
    "id": "XRaiV-Tgc7bk"
   },
   "outputs": [],
   "source": [
    "a = np.array([1, 2, 3])\n",
    "b = np.array([4, 5, 6])"
   ]
  },
  {
   "cell_type": "markdown",
   "metadata": {
    "id": "Qs0Eqqrfc7bp"
   },
   "source": [
    "Первый способ — посчитать метрику как $\\left\\|a-b\\right\\|$:"
   ]
  },
  {
   "cell_type": "code",
   "execution_count": 46,
   "metadata": {
    "colab": {
     "base_uri": "https://localhost:8080/"
    },
    "executionInfo": {
     "elapsed": 1287,
     "status": "ok",
     "timestamp": 1618256724784,
     "user": {
      "displayName": "Андрей Коржун",
      "photoUrl": "https://lh3.googleusercontent.com/a-/AOh14GiYXo_DJY--IR27WLi07-XHkZ2YHbsCbQZSCek6=s64",
      "userId": "02793855575918904545"
     },
     "user_tz": -180
    },
    "id": "XSaqNfk0c7bs",
    "outputId": "12b2ad2d-83dd-4c49-98b0-12737dc6627c"
   },
   "outputs": [
    {
     "name": "stdout",
     "output_type": "stream",
     "text": [
      "l1 расстояние между векторами a и b:\n",
      "9.0\n"
     ]
    }
   ],
   "source": [
    "print(f'l1 расстояние между векторами a и b:\\n{norm(a - b, ord=1)}')\n"
   ]
  },
  {
   "cell_type": "code",
   "execution_count": 47,
   "metadata": {
    "colab": {
     "base_uri": "https://localhost:8080/"
    },
    "executionInfo": {
     "elapsed": 1288,
     "status": "ok",
     "timestamp": 1618256724786,
     "user": {
      "displayName": "Андрей Коржун",
      "photoUrl": "https://lh3.googleusercontent.com/a-/AOh14GiYXo_DJY--IR27WLi07-XHkZ2YHbsCbQZSCek6=s64",
      "userId": "02793855575918904545"
     },
     "user_tz": -180
    },
    "id": "FRKdP_7wc7by",
    "outputId": "be77ef9f-46ad-44fb-ee50-ef8374e3dc79"
   },
   "outputs": [
    {
     "name": "stdout",
     "output_type": "stream",
     "text": [
      "l2 расстояние между векторами a и b:\n",
      "5.196152422706632\n"
     ]
    }
   ],
   "source": [
    "print(f'l2 расстояние между векторами a и b:\\n{norm(a - b, ord=2)}')"
   ]
  },
  {
   "cell_type": "markdown",
   "metadata": {
    "id": "vufDAv6vc7b3"
   },
   "source": [
    "Второй способ посчитать расстояние — использовать функцию `scipy.spatial.distance.cdist(XA, XB, metric='euclidean', p=2 ...)` из модуля SciPy, предназначенного для выполнения научных расчётов. Параметры `XA, XB` — исходные векторы, а `metric` и `p` задают метрику расстояния.\n",
    "\n",
    "Эта функция требует, чтобы размерность массивов `XA` и `XB` была как минимум двумерная, поэтому для использования этой функции исходные векторы надо преобразовать в _вектор-строки_ (матрица размера $1\\times m$) или _вектор-столбцы_ (матрица размера $n\\times1$). Матрицы, как структуры данных, рассмотрим в следующих уроках."
   ]
  },
  {
   "cell_type": "code",
   "execution_count": null,
   "metadata": {
    "id": "piZvlwrWPmTN"
   },
   "outputs": [],
   "source": []
  },
  {
   "cell_type": "code",
   "execution_count": null,
   "metadata": {
    "id": "kzujXfVr2CUy"
   },
   "outputs": [],
   "source": []
  },
  {
   "cell_type": "markdown",
   "metadata": {
    "id": "N78Ehtojc7b4"
   },
   "source": [
    "Есть различные способы преобразования вектора в вектор-строку или вектор-столбец. Первый — использовать метод `array.reshape(shape)`, где кортеж `shape` задаёт размерность получаемого массива."
   ]
  },
  {
   "cell_type": "code",
   "execution_count": 48,
   "metadata": {
    "colab": {
     "base_uri": "https://localhost:8080/"
    },
    "executionInfo": {
     "elapsed": 1286,
     "status": "ok",
     "timestamp": 1618256724789,
     "user": {
      "displayName": "Андрей Коржун",
      "photoUrl": "https://lh3.googleusercontent.com/a-/AOh14GiYXo_DJY--IR27WLi07-XHkZ2YHbsCbQZSCek6=s64",
      "userId": "02793855575918904545"
     },
     "user_tz": -180
    },
    "id": "XlmcgaBvc7b5",
    "outputId": "f839b968-f9e6-491a-9d99-5310a5292acc"
   },
   "outputs": [
    {
     "name": "stdout",
     "output_type": "stream",
     "text": [
      "Вектор а: [1 2 3]\n",
      "Его размерность: (3,)\n",
      "Вектор b: [4 5 6]\n",
      "Его размерность: (3,)\n",
      "\n",
      "После применения метода reshape:\n",
      "Вектор-строка a: [[1 2 3]]\n",
      "Его размерность: (1, 3)\n",
      "Вектор-строка b: [[4 5 6]]\n",
      "Его размерность: (1, 3)\n"
     ]
    }
   ],
   "source": [
    "print(f'Вектор а: {a}')\n",
    "print(f'Его размерность: {a.shape}')\n",
    "print(f'Вектор b: {b}')\n",
    "print(f'Его размерность: {b.shape}')\n",
    "\n",
    "a = a.reshape((1, 3))\n",
    "b = b.reshape((1, 3))\n",
    "\n",
    "print('\\nПосле применения метода reshape:')\n",
    "print(f'Вектор-строка a: {a}')\n",
    "print(f'Его размерность: {a.shape}')\n",
    "print(f'Вектор-строка b: {b}')\n",
    "print(f'Его размерность: {b.shape}')"
   ]
  },
  {
   "cell_type": "code",
   "execution_count": 49,
   "metadata": {
    "colab": {
     "base_uri": "https://localhost:8080/"
    },
    "executionInfo": {
     "elapsed": 1630,
     "status": "ok",
     "timestamp": 1618256725134,
     "user": {
      "displayName": "Андрей Коржун",
      "photoUrl": "https://lh3.googleusercontent.com/a-/AOh14GiYXo_DJY--IR27WLi07-XHkZ2YHbsCbQZSCek6=s64",
      "userId": "02793855575918904545"
     },
     "user_tz": -180
    },
    "id": "9xAeyZDtc7b_",
    "outputId": "153584b6-60a7-4230-9345-485b067ae370"
   },
   "outputs": [
    {
     "name": "stdout",
     "output_type": "stream",
     "text": [
      "Манхэттенское расстояние между a и b:\n",
      "[[9.]]\n"
     ]
    }
   ],
   "source": [
    "from scipy.spatial.distance import cdist\n",
    "print(f'Манхэттенское расстояние между a и b:\\n{cdist(a, b, metric=\"cityblock\")}')"
   ]
  },
  {
   "cell_type": "markdown",
   "metadata": {
    "id": "Lz3T0A-Uc7cE"
   },
   "source": [
    "Ещё один способ по преобразованию вектора для получения возможности определения расстояния посредством cdist — использование функции `np.newaxis`."
   ]
  },
  {
   "cell_type": "code",
   "execution_count": 50,
   "metadata": {
    "colab": {
     "base_uri": "https://localhost:8080/",
     "height": 231
    },
    "executionInfo": {
     "elapsed": 1299,
     "status": "error",
     "timestamp": 1618339948283,
     "user": {
      "displayName": "Максим Кащенко",
      "photoUrl": "https://lh3.googleusercontent.com/a-/AOh14GieA19wRbITvkurZk9FMkX3aR5_ver6HV0cH4n9Cw=s64",
      "userId": "16839127760996034057"
     },
     "user_tz": -180
    },
    "id": "nr-_mbJhc7cG",
    "outputId": "d7296cde-ccc1-456c-8bd9-618ae33a0e27"
   },
   "outputs": [
    {
     "name": "stdout",
     "output_type": "stream",
     "text": [
      "Преобразование вектора a в вектор-строку:\n",
      "[[1 2 3]]\n",
      "Полученная размерность:(1, 3)\n",
      "Преобразование вектора b в вектор-столбец:\n",
      "[[4]\n",
      " [5]\n",
      " [6]]\n",
      "Полученная размерность:(3, 1)\n"
     ]
    }
   ],
   "source": [
    "a = np.array([1, 2, 3])\n",
    "b = np.array([4, 5, 6])\n",
    "print(f'Преобразование вектора a в вектор-строку:\\n{a[np.newaxis, :]}')\n",
    "print(f'Полученная размерность:{a[np.newaxis, :].shape}')\n",
    "\n",
    "print(f'Преобразование вектора b в вектор-столбец:\\n{b[:, np.newaxis]}')\n",
    "print(f'Полученная размерность:{b[:, np.newaxis].shape}')"
   ]
  },
  {
   "cell_type": "code",
   "execution_count": 51,
   "metadata": {
    "colab": {
     "base_uri": "https://localhost:8080/"
    },
    "executionInfo": {
     "elapsed": 1629,
     "status": "ok",
     "timestamp": 1618256725137,
     "user": {
      "displayName": "Андрей Коржун",
      "photoUrl": "https://lh3.googleusercontent.com/a-/AOh14GiYXo_DJY--IR27WLi07-XHkZ2YHbsCbQZSCek6=s64",
      "userId": "02793855575918904545"
     },
     "user_tz": -180
    },
    "id": "svciKKAPc7cQ",
    "outputId": "2055417a-4f90-4e6d-c924-8502786d115e"
   },
   "outputs": [
    {
     "name": "stdout",
     "output_type": "stream",
     "text": [
      "Евклидово расстояние между a и b:\n",
      "[[5.19615242]]\n"
     ]
    }
   ],
   "source": [
    "print(f'Евклидово расстояние между a и b:\\n{cdist(a[np.newaxis, :], b[np.newaxis, :], metric=\"euclidean\")}')"
   ]
  },
  {
   "cell_type": "markdown",
   "metadata": {
    "id": "oOWx-qfJc7cW"
   },
   "source": [
    "### Базис в евклидовом пространстве"
   ]
  },
  {
   "cell_type": "markdown",
   "metadata": {
    "id": "O0LP3TnJc7cX"
   },
   "source": [
    "Как было сказано ранее, в евклидовом пространстве $E$ элементы $x$ и $y$ называются _ортогональными_, если\n",
    "\n",
    "$$(x,y)=0.$$"
   ]
  },
  {
   "cell_type": "markdown",
   "metadata": {
    "id": "-_C1u_e8c7ca"
   },
   "source": [
    "То есть это равенство означает, что угол между векторами должен равняться $90^{\\circ}$. Это же справедливо и для произвольного евклидова пространства, а также отсюда следует, что нулевой элемент евклидова пространства ортогонален любому элементу."
   ]
  },
  {
   "cell_type": "markdown",
   "metadata": {
    "id": "10MxUo4Dc7cc"
   },
   "source": [
    "__Определение.__ В конечномерном евклидовом пространстве базис $\\{e_{1},e_{2}...,e_{n}\\}$ называется ортонормированным, если:\n",
    "\n",
    "$(e_{i}, e_{j})=0$ $\\forall$ $i\\neq j$ и $(e_{i},e_{i})=1$ $\\forall$ $i\\in[1, n].$"
   ]
  },
  {
   "cell_type": "markdown",
   "metadata": {
    "id": "0OK9PGgXc7cd"
   },
   "source": [
    "Это означает, что ортонормированный базис ортогонален и состоит из векторов единичной длины."
   ]
  },
  {
   "cell_type": "markdown",
   "metadata": {
    "id": "UT6PV7xlc7ce"
   },
   "source": [
    "Часто на практике возникает необходимость произвести переход от произвольного базиса $\\{a_{1}, a_{2} ...,a_{n}\\}$ в определённом евклидовом пространстве к ортонормированному. Для этого требуется сперва _ортогонализировать_ его, а затем _нормировать_:\n",
    "\n",
    "Первая часть называется процессом ортогонализации Грама-Шмидта. Она производится следующим образом:\n",
    "\n",
    "Возьмём сначала $e_{1}=a_{1}$.<br>\n",
    "Второй элемент нового ортогонального базиса будем искать в виде $e_{2}=a_{2}+\\alpha_{1}e_{1}.$\n",
    "    \n",
    "$\\alpha_{1}$ подберём из условия ортогонального базиса $(e_{1}, e_{2})=0$. Из этого следует:\n",
    "    \n",
    "$$(e_{1}, a_{2}+\\alpha_{1}e_{1})=(e_{1}, a_{2})+(e_{1},\\alpha_{1}e_{1})=0,$$\n",
    "    \n",
    "    \n",
    "$$\\alpha_{1}=-\\frac{(e_{1}, a_{2})}{(e_{1},e_{1})}.$$\n",
    "    \n",
    "\n",
    "    \n",
    "    "
   ]
  },
  {
   "cell_type": "markdown",
   "metadata": {
    "id": "52bJc9E4c7cf"
   },
   "source": [
    "    \n",
    "   k-й элемент нового базиса будет иметь вид \n",
    "   \n",
    "   $$e_{k}=a_{k}+\\sum_{j=1}^{k-1}\\alpha_{j}e_{j},$$\n",
    "    \n",
    "   а $\\alpha_{i}$ —\n",
    "    \n",
    "   $$\\alpha_{i}=-\\frac{(e_{i}, a_{k})}{(e_{i},e_{i})}, i\\in[1, k-1].$$\n",
    "    \n",
    "   Ортогонализация продолжается до окончания множества исходных элементов, после чего следует вторая часть, где элементы $e_{i}$ достаточно пронормировать для получения ортонормированного базиса:\n",
    "    \n",
    "$$e_{i}'=\\frac{e_{i}}{|e_{i}|}.$$"
   ]
  },
  {
   "cell_type": "markdown",
   "metadata": {
    "id": "1p3yEbsYc7cg"
   },
   "source": [
    "Примером ортонормированного базиса может служить декартов прямоугольный базис евклидова пространства $E^{n}$:\n",
    "\n",
    "$$e_{1}=(1,0,0...,0),$$\n",
    "$$e_{2}=(0,1,0...,0),$$\n",
    "$$...$$\n",
    "$$e_{n}=(0,0,0...,1).$$"
   ]
  },
  {
   "cell_type": "markdown",
   "metadata": {
    "id": "wYEipVAZc7ch"
   },
   "source": [
    "Рассмотрим плюсы ортонормированного базиса по сравнению с обычным неортогональным."
   ]
  },
  {
   "cell_type": "markdown",
   "metadata": {
    "id": "gl49-J4sc7cn"
   },
   "source": [
    "Возьмём некоторое пространство с ортонормированным базисом $\\{e_{1},e_{2}...,e_{n}\\}$, выберем два произвольных вектора $x$ и $y$ в нём и разложим их по базису: \n",
    "\n",
    "$$x=\\xi_{1} e_{1}+ \\xi_{2} e_{2}+...+\\xi_{n} e_{n},$$\n",
    "$$y=\\eta_{1} e_{1}+ \\eta_{2} e_{2}+...+\\eta_{n} e_{n}.$$"
   ]
  },
  {
   "cell_type": "markdown",
   "metadata": {
    "id": "EjmrQcUoc7cq"
   },
   "source": [
    "Коэффициенты $\\xi_{i}$ и $\\eta_{i}$ будут координатами соответствующих векторов в существующем базисе. Вычислим их скалярное произведение:\n",
    "\n",
    "$$(x,y)=(\\xi_{1} e_{1}+ \\xi_{2} e_{2}+...+\\xi_{n} e_{n},\\eta_{1} e_{1}+ \\eta_{2} e_{2}+...+\\eta_{n} e_{n}).$$\n",
    "\n",
    "Учитывая свойства ортонормированного базиса, обнуление всех скалярных произведений $(e_{i}, e_{j})=0$, и $(e_{i}, e_{i})=1$, получим: \n",
    "\n",
    "$$(x,y)=\\xi_{1}\\eta_{1} + \\xi_{2} \\eta_{2}+...+\\xi_{n}\\eta_{n}.$$"
   ]
  },
  {
   "cell_type": "markdown",
   "metadata": {
    "id": "DoG0Hea-c7cr"
   },
   "source": [
    "Таким образом, _в евклидовом пространстве с ортонормированным базисом скалярное произведение двух векторов равняется сумме произведений соответствующих координат этих векторов в этом базисе_."
   ]
  },
  {
   "cell_type": "markdown",
   "metadata": {
    "id": "B6bf-1D-c7ct"
   },
   "source": [
    "Особенностью ортонормированного базиса также считается то, что _координаты произвольного элемента относительно ортонормированного базиса равны скалярным произведениям этого элемента на соответствующие базисные элементы._"
   ]
  },
  {
   "cell_type": "markdown",
   "metadata": {
    "id": "rnPVQP84c7cu"
   },
   "source": [
    "## Практическое задание"
   ]
  },
  {
   "cell_type": "markdown",
   "metadata": {
    "id": "81d4BnNXc7cy"
   },
   "source": [
    "__1.__ Найдите скалярное произведение векторов $x, y \\in \\mathbb{R}$:<br>\n",
    "а) $x=(0,-3, 6),~y=(-4, 7, 9);$<br>\n",
    "б) $x=(7, -4, 0, 1),~y=(-3, 1, 11, 2).$\n",
    "\n",
    "__2.__ Найдите нормы векторов $(4, 2, 4)$ и $(12, 3, 4)$ и угол между ними.\n",
    "\n",
    "__3.__ Определите, будет ли линейное пространство евклидовым, если за скалярное произведение принять:<br>\n",
    "а) произведение длин векторов;<br>\n",
    "б) утроенное обычное скалярное произведение векторов?<br>\n",
    "      \n",
    "__4.__ Выясните, какие из нижеперечисленных векторов образуют ортонормированный базис в линейном пространстве $\\mathbb{R}^{3}$:<br>\n",
    "а) $(1,0,0),(0,0,1);$ <br>\n",
    "б) $(1/\\sqrt{2},-1/\\sqrt{2},0),(1/\\sqrt{2},1/\\sqrt{2},0), (0,0,1);$<br>\n",
    "в) $(1/2, -1/2, 0), (0, 1/2, 1/2), (0,0,1);$<br>\n",
    "г) $(1,0,0),(0,1,0),(0,0,1)?$ \n"
   ]
  },
  {
   "cell_type": "markdown",
   "metadata": {
    "id": "HVgKvuHaEjUo"
   },
   "source": [
    "## Литература"
   ]
  },
  {
   "cell_type": "markdown",
   "metadata": {
    "id": "Iv-T_NZAkVqZ"
   },
   "source": [
    "## Дополнительные материалы"
   ]
  },
  {
   "cell_type": "markdown",
   "metadata": {
    "id": "OXmdG8f3c7c0"
   },
   "source": [
    "1. Ильин В. А., Позняк Э. Г. Линейная алгебра: Учеб. для вузов. — 6-е изд. — М.: Физматлит, 2005.\n",
    "2. Кострикин А. И., Манин Ю. И. Линейная алгебра и геометрия. Учеб. пособие для вузов. — 2-е изд. — М.: Наука, Главная редакция физико-математической литературы, 1986.\n",
    "3. Шерстнева А. И., Янущик О. В. Линейные пространства. Линейные операторы: учебное пособие. Томск: Изд-во Томского политехнического университета, 2010."
   ]
  },
  {
   "cell_type": "markdown",
   "metadata": {
    "id": "JOAQaPnDc7c1"
   },
   "source": [
    "## Дополнительные материалы"
   ]
  },
  {
   "cell_type": "markdown",
   "metadata": {
    "id": "9o_SiUNxkVqa"
   },
   "source": [
    "1. [Создание векторов в NumPy](http://docs.scipy.org/doc/numpy-1.10.1/user/basics.creation.html).\n",
    "\n",
    "2. [Манхэттенская метрика](https://ru.wikipedia.org/wiki/Расстояние_городских_кварталов).\n",
    "\n",
    "3. [Евклидова метрика](https://ru.wikipedia.org/wiki/Евклидова_метрика).\n",
    "\n",
    "4. [Скалярное произведение в Python](http://docs.scipy.org/doc/numpy/reference/routines.linalg.html#matrix-and-vector-products).\n",
    "\n",
    "5. [Документация по нормам в NumPy](http://docs.scipy.org/doc/numpy-1.10.0/reference/generated/numpy.linalg.norm.html)\n",
    "\n",
    "6. [Документация по метрикам в SciPy](http://docs.scipy.org/doc/scipy-0.16.0/reference/generated/scipy.spatial.distance.cdist.html)"
   ]
  }
 ],
 "metadata": {
  "colab": {
   "collapsed_sections": [],
   "name": "Методичка №1.ipynb",
   "provenance": []
  },
  "kernelspec": {
   "display_name": "Python 3",
   "language": "python",
   "name": "python3"
  },
  "language_info": {
   "codemirror_mode": {
    "name": "ipython",
    "version": 3
   },
   "file_extension": ".py",
   "mimetype": "text/x-python",
   "name": "python",
   "nbconvert_exporter": "python",
   "pygments_lexer": "ipython3",
   "version": "3.8.3"
  }
 },
 "nbformat": 4,
 "nbformat_minor": 1
}
